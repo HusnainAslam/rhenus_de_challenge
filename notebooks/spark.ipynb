{
 "cells": [
  {
   "cell_type": "code",
   "execution_count": 29,
   "id": "9df6fd33-4e46-42d9-a88f-bb8560c4a373",
   "metadata": {},
   "outputs": [],
   "source": [
    "from pyspark.sql import SparkSession\n",
    "from pyspark.sql.functions import window, col, count, avg\n",
    "from pyspark.sql.functions import initcap"
   ]
  },
  {
   "cell_type": "code",
   "execution_count": 38,
   "id": "1f52541f-fe0d-4c5e-9013-d9eaaf17bec1",
   "metadata": {},
   "outputs": [],
   "source": [
    "# Initialize Spark Session\n",
    "spark = SparkSession.builder.appName(\"SparkChallenge\").getOrCreate()"
   ]
  },
  {
   "cell_type": "code",
   "execution_count": 3,
   "id": "610ca207-d2bd-4d09-b2be-3af8188f5f56",
   "metadata": {
    "scrolled": true
   },
   "outputs": [
    {
     "name": "stderr",
     "output_type": "stream",
     "text": [
      "                                                                                \r"
     ]
    }
   ],
   "source": [
    "# Step 1: Read the CSV file\n",
    "df = spark.read.csv(\"/app/data/events.csv\", header=True, inferSchema=True)"
   ]
  },
  {
   "cell_type": "code",
   "execution_count": 30,
   "id": "e14d1ae5-b41b-436b-a300-14780d5ff468",
   "metadata": {},
   "outputs": [],
   "source": [
    "df = df.withColumn(\"action\", initcap(col(\"action\")))"
   ]
  },
  {
   "cell_type": "code",
   "execution_count": 32,
   "id": "9a360a2f-4c21-48c5-a05c-ba525df12291",
   "metadata": {},
   "outputs": [],
   "source": [
    "df_grouped = df.groupBy(window(col(\"time\"), \"10 minutes\"), col(\"action\")) \\\n",
    "               .count() \\\n",
    "               .groupBy(\"window\") \\\n",
    "               .pivot(\"action\", [\"Open\", \"Close\"]) \\\n",
    "               .sum(\"count\") \\\n",
    "               .withColumnRenamed(\"Open\", \"open_count\") \\\n",
    "               .withColumnRenamed(\"Close\", \"close_count\") \\\n",
    "               .na.fill(0)  # Replace nulls with zeros for missing actions in some windows"
   ]
  },
  {
   "cell_type": "code",
   "execution_count": 34,
   "id": "05658349-8970-4039-8115-474e21de96b7",
   "metadata": {},
   "outputs": [],
   "source": [
    "df_grouped = df_grouped.withColumn(\"avg_actions\", (col(\"open_count\") + col(\"close_count\")) / 2)"
   ]
  },
  {
   "cell_type": "code",
   "execution_count": 35,
   "id": "9fdbe915-9054-424b-a673-5252d0a26ca0",
   "metadata": {},
   "outputs": [
    {
     "name": "stdout",
     "output_type": "stream",
     "text": [
      "-RECORD 0-------------------------------------------------\n",
      " window      | {2016-07-27 06:00:00, 2016-07-27 06:10:00} \n",
      " open_count  | 179                                        \n",
      " close_count | 184                                        \n",
      " avg_actions | 181.5                                      \n",
      "only showing top 1 row\n",
      "\n"
     ]
    }
   ],
   "source": [
    "df_grouped.show(1, 1000, vertical=True)"
   ]
  },
  {
   "cell_type": "code",
   "execution_count": 36,
   "id": "802d2d3e-3ce7-40e7-9574-253e08afb219",
   "metadata": {},
   "outputs": [],
   "source": [
    "top_10_opens = df_grouped.orderBy(col(\"open_count\").desc()).limit(10)"
   ]
  },
  {
   "cell_type": "code",
   "execution_count": 37,
   "id": "19277bfe-0e52-4e8a-8050-3269f4ad4048",
   "metadata": {},
   "outputs": [
    {
     "name": "stdout",
     "output_type": "stream",
     "text": [
      "+--------------------+----------+-----------+-----------+\n",
      "|              window|open_count|close_count|avg_actions|\n",
      "+--------------------+----------+-----------+-----------+\n",
      "|{2016-07-26 20:10...|       185|        189|      187.0|\n",
      "|{2016-07-27 15:00...|       184|        160|      172.0|\n",
      "|{2016-07-27 00:00...|       184|        170|      177.0|\n",
      "|{2016-07-27 07:40...|       184|        164|      174.0|\n",
      "|{2016-07-27 08:20...|       184|        165|      174.5|\n",
      "|{2016-07-27 20:50...|       184|        210|      197.0|\n",
      "|{2016-07-27 13:20...|       182|        173|      177.5|\n",
      "|{2016-07-27 14:30...|       182|        152|      167.0|\n",
      "|{2016-07-27 06:50...|       182|        164|      173.0|\n",
      "|{2016-07-27 05:40...|       180|        177|      178.5|\n",
      "+--------------------+----------+-----------+-----------+\n",
      "\n"
     ]
    }
   ],
   "source": [
    "top_10_opens.show()"
   ]
  },
  {
   "cell_type": "code",
   "execution_count": 27,
   "id": "a8df7a20-bb0e-4abb-a0a4-d02fb0a6c435",
   "metadata": {},
   "outputs": [
    {
     "name": "stdout",
     "output_type": "stream",
     "text": [
      "-RECORD 0--------------------------------------------\n",
      " window | {2016-07-26 02:40:00, 2016-07-26 02:50:00} \n",
      " Open   | 32                                         \n",
      " Close  | NULL                                       \n",
      "-RECORD 1--------------------------------------------\n",
      " window | {2016-07-26 02:50:00, 2016-07-26 03:00:00} \n",
      " Open   | 147                                        \n",
      " Close  | 11                                         \n",
      "-RECORD 2--------------------------------------------\n",
      " window | {2016-07-26 03:00:00, 2016-07-26 03:10:00} \n",
      " Open   | 162                                        \n",
      " Close  | 19                                         \n",
      "-RECORD 3--------------------------------------------\n",
      " window | {2016-07-26 03:10:00, 2016-07-26 03:20:00} \n",
      " Open   | 169                                        \n",
      " Close  | 42                                         \n",
      "only showing top 4 rows\n",
      "\n"
     ]
    }
   ],
   "source": [
    "df.groupBy(window(col(\"time\"), \"10 minutes\"), col(\"action\")).count().groupBy(\"window\").pivot(\"action\", [\"Open\", \"Close\"]).sum(\"count\").orderBy(col('window')).show(4, 1000, vertical=True)"
   ]
  },
  {
   "cell_type": "code",
   "execution_count": 22,
   "id": "04d5950c-8102-4978-9767-d9fed7faa9e9",
   "metadata": {},
   "outputs": [
    {
     "name": "stdout",
     "output_type": "stream",
     "text": [
      "-RECORD 0--------------------------------------------\n",
      " window | {2016-07-26 02:40:00, 2016-07-26 02:50:00} \n",
      " action | Open                                       \n",
      " count  | 32                                         \n",
      "-RECORD 1--------------------------------------------\n",
      " window | {2016-07-26 02:50:00, 2016-07-26 03:00:00} \n",
      " action | Close                                      \n",
      " count  | 11                                         \n",
      "-RECORD 2--------------------------------------------\n",
      " window | {2016-07-26 02:50:00, 2016-07-26 03:00:00} \n",
      " action | Open                                       \n",
      " count  | 147                                        \n",
      "-RECORD 3--------------------------------------------\n",
      " window | {2016-07-26 03:00:00, 2016-07-26 03:10:00} \n",
      " action | Close                                      \n",
      " count  | 19                                         \n",
      "only showing top 4 rows\n",
      "\n"
     ]
    }
   ],
   "source": [
    "df.groupBy(window(col(\"time\"), \"10 minutes\"), col(\"action\")).count().orderBy(col('window')).show(4, 1000, vertical=True)"
   ]
  },
  {
   "cell_type": "code",
   "execution_count": null,
   "id": "40d02b94-7b27-4d33-a2a9-461995a0fa25",
   "metadata": {},
   "outputs": [],
   "source": []
  }
 ],
 "metadata": {
  "kernelspec": {
   "display_name": "Python 3 (ipykernel)",
   "language": "python",
   "name": "python3"
  },
  "language_info": {
   "codemirror_mode": {
    "name": "ipython",
    "version": 3
   },
   "file_extension": ".py",
   "mimetype": "text/x-python",
   "name": "python",
   "nbconvert_exporter": "python",
   "pygments_lexer": "ipython3",
   "version": "3.12.2"
  }
 },
 "nbformat": 4,
 "nbformat_minor": 5
}
